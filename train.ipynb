{
 "cells": [
  {
   "cell_type": "code",
   "execution_count": 1,
   "id": "7de1f720-5180-4984-83c7-dc1081523fb7",
   "metadata": {},
   "outputs": [],
   "source": [
    "import pandas as pd\n",
    "%load_ext autoreload\n",
    "%autoreload 2\n",
    "import utils\n",
    "import numpy as np\n",
    "import matplotlib.pyplot as plt\n",
    "from sklearn.preprocessing import StandardScaler\n"
   ]
  },
  {
   "cell_type": "markdown",
   "id": "cf76a13f-8cce-4070-866a-bd6b701bd08c",
   "metadata": {},
   "source": [
    "## All features"
   ]
  },
  {
   "cell_type": "code",
   "execution_count": 2,
   "id": "c239eabc-119f-4c64-9f9b-9f5351fb1842",
   "metadata": {},
   "outputs": [],
   "source": [
    "df = pd.read_csv('./data/diabetes_data.csv')\n",
    "df['gender'] = df['gender'].replace({'Male':0, 'Female':1})"
   ]
  },
  {
   "cell_type": "code",
   "execution_count": 3,
   "id": "76256899-1bba-459c-ab44-573a07d6ac73",
   "metadata": {},
   "outputs": [],
   "source": [
    "X_train, X_test, y_train, y_test = utils.split_data(df)"
   ]
  },
  {
   "cell_type": "code",
   "execution_count": 4,
   "id": "3c743f5c-0004-4403-a363-9f13de7afd7a",
   "metadata": {},
   "outputs": [
    {
     "name": "stderr",
     "output_type": "stream",
     "text": [
      "/Users/fedecl/MachineLearning-P1-NonProbabilisticClassifiers/env/lib/python3.12/site-packages/sklearn/neural_network/_multilayer_perceptron.py:690: ConvergenceWarning: Stochastic Optimizer: Maximum iterations (200) reached and the optimization hasn't converged yet.\n",
      "  warnings.warn(\n"
     ]
    },
    {
     "data": {
      "text/html": [
       "<div>\n",
       "<style scoped>\n",
       "    .dataframe tbody tr th:only-of-type {\n",
       "        vertical-align: middle;\n",
       "    }\n",
       "\n",
       "    .dataframe tbody tr th {\n",
       "        vertical-align: top;\n",
       "    }\n",
       "\n",
       "    .dataframe thead th {\n",
       "        text-align: right;\n",
       "    }\n",
       "</style>\n",
       "<table border=\"1\" class=\"dataframe\">\n",
       "  <thead>\n",
       "    <tr style=\"text-align: right;\">\n",
       "      <th></th>\n",
       "      <th>accuracy</th>\n",
       "      <th>precision</th>\n",
       "      <th>recall</th>\n",
       "      <th>f1_score</th>\n",
       "      <th>roc_auc</th>\n",
       "      <th>Model</th>\n",
       "      <th>#features</th>\n",
       "      <th>method</th>\n",
       "    </tr>\n",
       "  </thead>\n",
       "  <tbody>\n",
       "    <tr>\n",
       "      <th>0</th>\n",
       "      <td>0.865</td>\n",
       "      <td>0.889</td>\n",
       "      <td>0.865</td>\n",
       "      <td>0.869</td>\n",
       "      <td>0.959</td>\n",
       "      <td>KNeighborsClassifier</td>\n",
       "      <td>16</td>\n",
       "      <td>All features</td>\n",
       "    </tr>\n",
       "    <tr>\n",
       "      <th>1</th>\n",
       "      <td>0.894</td>\n",
       "      <td>0.895</td>\n",
       "      <td>0.894</td>\n",
       "      <td>0.895</td>\n",
       "      <td>0.961</td>\n",
       "      <td>SVC</td>\n",
       "      <td>16</td>\n",
       "      <td>All features</td>\n",
       "    </tr>\n",
       "    <tr>\n",
       "      <th>2</th>\n",
       "      <td>0.904</td>\n",
       "      <td>0.904</td>\n",
       "      <td>0.904</td>\n",
       "      <td>0.904</td>\n",
       "      <td>0.967</td>\n",
       "      <td>MLPClassifier</td>\n",
       "      <td>16</td>\n",
       "      <td>All features</td>\n",
       "    </tr>\n",
       "    <tr>\n",
       "      <th>3</th>\n",
       "      <td>0.962</td>\n",
       "      <td>0.966</td>\n",
       "      <td>0.962</td>\n",
       "      <td>0.962</td>\n",
       "      <td>0.972</td>\n",
       "      <td>DecisionTreeClassifier</td>\n",
       "      <td>16</td>\n",
       "      <td>All features</td>\n",
       "    </tr>\n",
       "  </tbody>\n",
       "</table>\n",
       "</div>"
      ],
      "text/plain": [
       "   accuracy  precision  recall  f1_score  roc_auc                   Model  \\\n",
       "0     0.865      0.889   0.865     0.869    0.959    KNeighborsClassifier   \n",
       "1     0.894      0.895   0.894     0.895    0.961                     SVC   \n",
       "2     0.904      0.904   0.904     0.904    0.967           MLPClassifier   \n",
       "3     0.962      0.966   0.962     0.962    0.972  DecisionTreeClassifier   \n",
       "\n",
       "   #features        method  \n",
       "0         16  All features  \n",
       "1         16  All features  \n",
       "2         16  All features  \n",
       "3         16  All features  "
      ]
     },
     "execution_count": 4,
     "metadata": {},
     "output_type": "execute_result"
    }
   ],
   "source": [
    "df_all = utils.apply_classifiers(X_train, y_train, X_test, y_test)\n",
    "df_all['#features'] = 16\n",
    "df_all['method'] = 'All features'\n",
    "df_all"
   ]
  },
  {
   "cell_type": "code",
   "execution_count": 5,
   "id": "bce80f8e-37d5-414b-bba8-d19750e7934a",
   "metadata": {},
   "outputs": [
    {
     "name": "stdout",
     "output_type": "stream",
     "text": [
      "\\begin{tabular}{llrrrrrrl}\n",
      "\\toprule\n",
      " & Model & accuracy & precision & recall & f1_score & roc_auc & #features & method \\\\\n",
      "\\midrule\n",
      "0 & KNeighborsClassifier & 0.86 & 0.89 & 0.86 & 0.87 & 0.96 & 16 & All features \\\\\n",
      "1 & SVC & 0.89 & 0.90 & 0.89 & 0.90 & 0.96 & 16 & All features \\\\\n",
      "2 & MLPClassifier & 0.90 & 0.90 & 0.90 & 0.90 & 0.97 & 16 & All features \\\\\n",
      "3 & DecisionTreeClassifier & 0.96 & 0.97 & 0.96 & 0.96 & 0.97 & 16 & All features \\\\\n",
      "\\bottomrule\n",
      "\\end{tabular}\n",
      "\n"
     ]
    }
   ],
   "source": [
    "utils.df_to_tex(df_all)"
   ]
  },
  {
   "cell_type": "markdown",
   "id": "6a372826-d6ae-4652-992d-e5a71ecce2ab",
   "metadata": {},
   "source": [
    "## Univariate filtered subset selection"
   ]
  },
  {
   "cell_type": "code",
   "execution_count": 21,
   "id": "9ea63e26-a2c9-46c9-b719-6ed4f91be5df",
   "metadata": {},
   "outputs": [
    {
     "name": "stdout",
     "output_type": "stream",
     "text": [
      "Using 1 best features...........\n",
      "['polydipsia']\n",
      "\n",
      "Using 2 best features...........\n",
      "['polyuria', 'polydipsia']\n",
      "\n",
      "Using 3 best features...........\n",
      "['gender', 'polyuria', 'polydipsia']\n",
      "\n",
      "Using 4 best features...........\n",
      "['gender', 'polyuria', 'polydipsia', 'sudden_weight_loss']\n",
      "\n",
      "Using 5 best features...........\n",
      "['gender', 'polyuria', 'polydipsia', 'sudden_weight_loss', 'partial_paresis']\n",
      "\n",
      "Using 6 best features...........\n",
      "['gender', 'polyuria', 'polydipsia', 'sudden_weight_loss', 'irritability', 'partial_paresis']\n"
     ]
    },
    {
     "name": "stderr",
     "output_type": "stream",
     "text": [
      "/Users/fedecl/MachineLearning-P1-NonProbabilisticClassifiers/env/lib/python3.12/site-packages/sklearn/neural_network/_multilayer_perceptron.py:690: ConvergenceWarning: Stochastic Optimizer: Maximum iterations (200) reached and the optimization hasn't converged yet.\n",
      "  warnings.warn(\n"
     ]
    },
    {
     "name": "stdout",
     "output_type": "stream",
     "text": [
      "\n",
      "Using 7 best features...........\n",
      "['gender', 'polyuria', 'polydipsia', 'sudden_weight_loss', 'polyphagia', 'irritability', 'partial_paresis']\n"
     ]
    },
    {
     "name": "stderr",
     "output_type": "stream",
     "text": [
      "/Users/fedecl/MachineLearning-P1-NonProbabilisticClassifiers/env/lib/python3.12/site-packages/sklearn/neural_network/_multilayer_perceptron.py:690: ConvergenceWarning: Stochastic Optimizer: Maximum iterations (200) reached and the optimization hasn't converged yet.\n",
      "  warnings.warn(\n"
     ]
    },
    {
     "name": "stdout",
     "output_type": "stream",
     "text": [
      "\n",
      "Using 8 best features...........\n",
      "['gender', 'polyuria', 'polydipsia', 'sudden_weight_loss', 'polyphagia', 'irritability', 'partial_paresis', 'alopecia']\n"
     ]
    },
    {
     "name": "stderr",
     "output_type": "stream",
     "text": [
      "/Users/fedecl/MachineLearning-P1-NonProbabilisticClassifiers/env/lib/python3.12/site-packages/sklearn/neural_network/_multilayer_perceptron.py:690: ConvergenceWarning: Stochastic Optimizer: Maximum iterations (200) reached and the optimization hasn't converged yet.\n",
      "  warnings.warn(\n"
     ]
    },
    {
     "name": "stdout",
     "output_type": "stream",
     "text": [
      "\n",
      "Using 9 best features...........\n",
      "['age', 'gender', 'polyuria', 'polydipsia', 'sudden_weight_loss', 'polyphagia', 'irritability', 'partial_paresis', 'alopecia']\n"
     ]
    },
    {
     "name": "stderr",
     "output_type": "stream",
     "text": [
      "/Users/fedecl/MachineLearning-P1-NonProbabilisticClassifiers/env/lib/python3.12/site-packages/sklearn/neural_network/_multilayer_perceptron.py:690: ConvergenceWarning: Stochastic Optimizer: Maximum iterations (200) reached and the optimization hasn't converged yet.\n",
      "  warnings.warn(\n"
     ]
    },
    {
     "name": "stdout",
     "output_type": "stream",
     "text": [
      "\n",
      "Using 10 best features...........\n",
      "['age', 'gender', 'polyuria', 'polydipsia', 'sudden_weight_loss', 'polyphagia', 'visual_blurring', 'irritability', 'partial_paresis', 'alopecia']\n"
     ]
    },
    {
     "name": "stderr",
     "output_type": "stream",
     "text": [
      "/Users/fedecl/MachineLearning-P1-NonProbabilisticClassifiers/env/lib/python3.12/site-packages/sklearn/neural_network/_multilayer_perceptron.py:690: ConvergenceWarning: Stochastic Optimizer: Maximum iterations (200) reached and the optimization hasn't converged yet.\n",
      "  warnings.warn(\n"
     ]
    },
    {
     "name": "stdout",
     "output_type": "stream",
     "text": [
      "\n",
      "Using 11 best features...........\n",
      "['age', 'gender', 'polyuria', 'polydipsia', 'sudden_weight_loss', 'weakness', 'polyphagia', 'visual_blurring', 'irritability', 'partial_paresis', 'alopecia']\n"
     ]
    },
    {
     "name": "stderr",
     "output_type": "stream",
     "text": [
      "/Users/fedecl/MachineLearning-P1-NonProbabilisticClassifiers/env/lib/python3.12/site-packages/sklearn/neural_network/_multilayer_perceptron.py:690: ConvergenceWarning: Stochastic Optimizer: Maximum iterations (200) reached and the optimization hasn't converged yet.\n",
      "  warnings.warn(\n"
     ]
    },
    {
     "name": "stdout",
     "output_type": "stream",
     "text": [
      "\n",
      "Using 12 best features...........\n",
      "['age', 'gender', 'polyuria', 'polydipsia', 'sudden_weight_loss', 'weakness', 'polyphagia', 'genital_thrush', 'visual_blurring', 'irritability', 'partial_paresis', 'alopecia']\n"
     ]
    },
    {
     "name": "stderr",
     "output_type": "stream",
     "text": [
      "/Users/fedecl/MachineLearning-P1-NonProbabilisticClassifiers/env/lib/python3.12/site-packages/sklearn/neural_network/_multilayer_perceptron.py:690: ConvergenceWarning: Stochastic Optimizer: Maximum iterations (200) reached and the optimization hasn't converged yet.\n",
      "  warnings.warn(\n"
     ]
    },
    {
     "name": "stdout",
     "output_type": "stream",
     "text": [
      "\n",
      "Using 13 best features...........\n",
      "['age', 'gender', 'polyuria', 'polydipsia', 'sudden_weight_loss', 'weakness', 'polyphagia', 'genital_thrush', 'visual_blurring', 'irritability', 'partial_paresis', 'muscle_stiffness', 'alopecia']\n",
      "\n",
      "Using 14 best features...........\n",
      "['age', 'gender', 'polyuria', 'polydipsia', 'sudden_weight_loss', 'weakness', 'polyphagia', 'genital_thrush', 'visual_blurring', 'irritability', 'partial_paresis', 'muscle_stiffness', 'alopecia', 'obesity']\n"
     ]
    },
    {
     "name": "stderr",
     "output_type": "stream",
     "text": [
      "/Users/fedecl/MachineLearning-P1-NonProbabilisticClassifiers/env/lib/python3.12/site-packages/sklearn/neural_network/_multilayer_perceptron.py:690: ConvergenceWarning: Stochastic Optimizer: Maximum iterations (200) reached and the optimization hasn't converged yet.\n",
      "  warnings.warn(\n"
     ]
    },
    {
     "name": "stdout",
     "output_type": "stream",
     "text": [
      "\n",
      "Using 15 best features...........\n",
      "['age', 'gender', 'polyuria', 'polydipsia', 'sudden_weight_loss', 'weakness', 'polyphagia', 'genital_thrush', 'visual_blurring', 'irritability', 'delayed_healing', 'partial_paresis', 'muscle_stiffness', 'alopecia', 'obesity']\n"
     ]
    },
    {
     "name": "stderr",
     "output_type": "stream",
     "text": [
      "/Users/fedecl/MachineLearning-P1-NonProbabilisticClassifiers/env/lib/python3.12/site-packages/sklearn/neural_network/_multilayer_perceptron.py:690: ConvergenceWarning: Stochastic Optimizer: Maximum iterations (200) reached and the optimization hasn't converged yet.\n",
      "  warnings.warn(\n"
     ]
    },
    {
     "name": "stdout",
     "output_type": "stream",
     "text": [
      "\n",
      "Using 16 best features...........\n",
      "['age', 'gender', 'polyuria', 'polydipsia', 'sudden_weight_loss', 'weakness', 'polyphagia', 'genital_thrush', 'visual_blurring', 'itching', 'irritability', 'delayed_healing', 'partial_paresis', 'muscle_stiffness', 'alopecia', 'obesity']\n",
      "\n"
     ]
    },
    {
     "name": "stderr",
     "output_type": "stream",
     "text": [
      "/Users/fedecl/MachineLearning-P1-NonProbabilisticClassifiers/env/lib/python3.12/site-packages/sklearn/neural_network/_multilayer_perceptron.py:690: ConvergenceWarning: Stochastic Optimizer: Maximum iterations (200) reached and the optimization hasn't converged yet.\n",
      "  warnings.warn(\n"
     ]
    }
   ],
   "source": [
    "from sklearn.feature_selection import SelectKBest, chi2\n",
    "from sklearn.feature_selection import f_classif\n",
    "from sklearn.model_selection import train_test_split\n",
    "\n",
    "df_univar = pd.DataFrame()\n",
    "for k in range(1,17): \n",
    "    \n",
    "    print(f'Using {k} best features...........')\n",
    "    X = df.drop(columns=['class'])\n",
    "    y = df['class']\n",
    "    \n",
    "    selector = SelectKBest(chi2, k=k).fit(X, y)\n",
    "    X_new = selector.transform(X)\n",
    "    selected_feature_names = X.columns[selector.get_support()].tolist()\n",
    "    print(selected_feature_names)\n",
    "    \n",
    "    X_train, X_test, y_train, y_test = train_test_split(X_new, y, test_size=0.2, random_state=42)\n",
    "    df_univ_k = utils.apply_classifiers(X_train, y_train, X_test, y_test)\n",
    "    \n",
    "    df_univ_k['#features'] = k\n",
    "    df_univar = pd.concat([df_univar, df_univ_k], axis=0)\n",
    "    print()"
   ]
  },
  {
   "cell_type": "code",
   "execution_count": 7,
   "id": "1ec1b2be-b688-415f-a86e-e79a51401f11",
   "metadata": {},
   "outputs": [
    {
     "data": {
      "text/html": [
       "<div>\n",
       "<style scoped>\n",
       "    .dataframe tbody tr th:only-of-type {\n",
       "        vertical-align: middle;\n",
       "    }\n",
       "\n",
       "    .dataframe tbody tr th {\n",
       "        vertical-align: top;\n",
       "    }\n",
       "\n",
       "    .dataframe thead th {\n",
       "        text-align: right;\n",
       "    }\n",
       "</style>\n",
       "<table border=\"1\" class=\"dataframe\">\n",
       "  <thead>\n",
       "    <tr style=\"text-align: right;\">\n",
       "      <th></th>\n",
       "      <th>accuracy</th>\n",
       "      <th>precision</th>\n",
       "      <th>recall</th>\n",
       "      <th>f1_score</th>\n",
       "      <th>roc_auc</th>\n",
       "      <th>Model</th>\n",
       "      <th>#features</th>\n",
       "      <th>method</th>\n",
       "    </tr>\n",
       "  </thead>\n",
       "  <tbody>\n",
       "    <tr>\n",
       "      <th>0</th>\n",
       "      <td>0.798</td>\n",
       "      <td>0.854</td>\n",
       "      <td>0.798</td>\n",
       "      <td>0.805</td>\n",
       "      <td>0.836</td>\n",
       "      <td>KNeighborsClassifier</td>\n",
       "      <td>1</td>\n",
       "      <td>Univariate</td>\n",
       "    </tr>\n",
       "    <tr>\n",
       "      <th>1</th>\n",
       "      <td>0.798</td>\n",
       "      <td>0.854</td>\n",
       "      <td>0.798</td>\n",
       "      <td>0.805</td>\n",
       "      <td>0.836</td>\n",
       "      <td>SVC</td>\n",
       "      <td>1</td>\n",
       "      <td>Univariate</td>\n",
       "    </tr>\n",
       "    <tr>\n",
       "      <th>2</th>\n",
       "      <td>0.798</td>\n",
       "      <td>0.854</td>\n",
       "      <td>0.798</td>\n",
       "      <td>0.805</td>\n",
       "      <td>0.836</td>\n",
       "      <td>MLPClassifier</td>\n",
       "      <td>1</td>\n",
       "      <td>Univariate</td>\n",
       "    </tr>\n",
       "    <tr>\n",
       "      <th>3</th>\n",
       "      <td>0.798</td>\n",
       "      <td>0.854</td>\n",
       "      <td>0.798</td>\n",
       "      <td>0.805</td>\n",
       "      <td>0.836</td>\n",
       "      <td>DecisionTreeClassifier</td>\n",
       "      <td>1</td>\n",
       "      <td>Univariate</td>\n",
       "    </tr>\n",
       "    <tr>\n",
       "      <th>0</th>\n",
       "      <td>0.865</td>\n",
       "      <td>0.872</td>\n",
       "      <td>0.865</td>\n",
       "      <td>0.867</td>\n",
       "      <td>0.905</td>\n",
       "      <td>KNeighborsClassifier</td>\n",
       "      <td>2</td>\n",
       "      <td>Univariate</td>\n",
       "    </tr>\n",
       "    <tr>\n",
       "      <th>...</th>\n",
       "      <td>...</td>\n",
       "      <td>...</td>\n",
       "      <td>...</td>\n",
       "      <td>...</td>\n",
       "      <td>...</td>\n",
       "      <td>...</td>\n",
       "      <td>...</td>\n",
       "      <td>...</td>\n",
       "    </tr>\n",
       "    <tr>\n",
       "      <th>3</th>\n",
       "      <td>0.942</td>\n",
       "      <td>0.951</td>\n",
       "      <td>0.942</td>\n",
       "      <td>0.943</td>\n",
       "      <td>0.958</td>\n",
       "      <td>DecisionTreeClassifier</td>\n",
       "      <td>15</td>\n",
       "      <td>Univariate</td>\n",
       "    </tr>\n",
       "    <tr>\n",
       "      <th>0</th>\n",
       "      <td>0.865</td>\n",
       "      <td>0.889</td>\n",
       "      <td>0.865</td>\n",
       "      <td>0.869</td>\n",
       "      <td>0.959</td>\n",
       "      <td>KNeighborsClassifier</td>\n",
       "      <td>16</td>\n",
       "      <td>Univariate</td>\n",
       "    </tr>\n",
       "    <tr>\n",
       "      <th>1</th>\n",
       "      <td>0.894</td>\n",
       "      <td>0.895</td>\n",
       "      <td>0.894</td>\n",
       "      <td>0.895</td>\n",
       "      <td>0.961</td>\n",
       "      <td>SVC</td>\n",
       "      <td>16</td>\n",
       "      <td>Univariate</td>\n",
       "    </tr>\n",
       "    <tr>\n",
       "      <th>2</th>\n",
       "      <td>0.904</td>\n",
       "      <td>0.904</td>\n",
       "      <td>0.904</td>\n",
       "      <td>0.904</td>\n",
       "      <td>0.967</td>\n",
       "      <td>MLPClassifier</td>\n",
       "      <td>16</td>\n",
       "      <td>Univariate</td>\n",
       "    </tr>\n",
       "    <tr>\n",
       "      <th>3</th>\n",
       "      <td>0.962</td>\n",
       "      <td>0.966</td>\n",
       "      <td>0.962</td>\n",
       "      <td>0.962</td>\n",
       "      <td>0.972</td>\n",
       "      <td>DecisionTreeClassifier</td>\n",
       "      <td>16</td>\n",
       "      <td>Univariate</td>\n",
       "    </tr>\n",
       "  </tbody>\n",
       "</table>\n",
       "<p>64 rows × 8 columns</p>\n",
       "</div>"
      ],
      "text/plain": [
       "    accuracy  precision  recall  f1_score  roc_auc                   Model  \\\n",
       "0      0.798      0.854   0.798     0.805    0.836    KNeighborsClassifier   \n",
       "1      0.798      0.854   0.798     0.805    0.836                     SVC   \n",
       "2      0.798      0.854   0.798     0.805    0.836           MLPClassifier   \n",
       "3      0.798      0.854   0.798     0.805    0.836  DecisionTreeClassifier   \n",
       "0      0.865      0.872   0.865     0.867    0.905    KNeighborsClassifier   \n",
       "..       ...        ...     ...       ...      ...                     ...   \n",
       "3      0.942      0.951   0.942     0.943    0.958  DecisionTreeClassifier   \n",
       "0      0.865      0.889   0.865     0.869    0.959    KNeighborsClassifier   \n",
       "1      0.894      0.895   0.894     0.895    0.961                     SVC   \n",
       "2      0.904      0.904   0.904     0.904    0.967           MLPClassifier   \n",
       "3      0.962      0.966   0.962     0.962    0.972  DecisionTreeClassifier   \n",
       "\n",
       "    #features      method  \n",
       "0           1  Univariate  \n",
       "1           1  Univariate  \n",
       "2           1  Univariate  \n",
       "3           1  Univariate  \n",
       "0           2  Univariate  \n",
       "..        ...         ...  \n",
       "3          15  Univariate  \n",
       "0          16  Univariate  \n",
       "1          16  Univariate  \n",
       "2          16  Univariate  \n",
       "3          16  Univariate  \n",
       "\n",
       "[64 rows x 8 columns]"
      ]
     },
     "execution_count": 7,
     "metadata": {},
     "output_type": "execute_result"
    }
   ],
   "source": [
    "df_univar['method'] = 'Univariate'\n",
    "df_univar"
   ]
  },
  {
   "cell_type": "code",
   "execution_count": 8,
   "id": "ea5b86e9-291a-499b-97d5-f277a9f0071d",
   "metadata": {},
   "outputs": [
    {
     "data": {
      "image/png": "[encoded data removed]",
      "text/plain": [
       "<Figure size 640x480 with 1 Axes>"
      ]
     },
     "metadata": {},
     "output_type": "display_data"
    }
   ],
   "source": [
    "for model in df_univar['Model'].unique():\n",
    "    df_model = df_univar[df_univar['Model'] == model]\n",
    "    plt.plot(df_model['#features'], df_model['accuracy'], label=model, )\n",
    "\n",
    "plt.legend()    \n",
    "plt.title('Accuracy of Models with Univariate Filter Feature Selection')\n",
    "plt.xlabel('Number of K-Best Features')\n",
    "plt.ylabel(\"Accuracy\")\n",
    "plt.savefig('./img/all-features-kbest.png')\n",
    "plt.show()"
   ]
  },
  {
   "cell_type": "markdown",
   "id": "c3a51bc1-8e1b-409f-93bb-1b591cc5b3e2",
   "metadata": {},
   "source": [
    "## Multivariate filtered subset selection"
   ]
  },
  {
   "cell_type": "code",
   "execution_count": 9,
   "id": "316037b7-c89c-4eea-a9f7-044aafe4a1a4",
   "metadata": {},
   "outputs": [
    {
     "name": "stdout",
     "output_type": "stream",
     "text": [
      "(416, 16)\n",
      "(104, 16)\n",
      "(416,)\n",
      "(104,)\n"
     ]
    }
   ],
   "source": [
    "from skrebate import ReliefF\n",
    "import pandas as pd\n",
    "import numpy as np\n",
    "from sklearn.model_selection import train_test_split\n",
    "from ReliefF import ReliefF\n",
    "\n",
    "df = pd.read_csv(\"./data/diabetes_data.csv\")  # Load your actual data\n",
    "df = utils.clean_data(df)\n",
    "X_train, X_test, y_train, y_test = utils.split_data(df)\n",
    "\n",
    "print(X_train.shape)\n",
    "print(X_test.shape)\n",
    "print(y_train.shape)\n",
    "print(y_test.shape)"
   ]
  },
  {
   "cell_type": "code",
   "execution_count": 10,
   "id": "fa48d9c6-3784-4c1a-8e12-58b57de31526",
   "metadata": {},
   "outputs": [
    {
     "name": "stdout",
     "output_type": "stream",
     "text": [
      "Selected features: ['polyuria', 'polydipsia', 'sudden_weight_loss', 'alopecia', 'gender', 'partial_paresis', 'muscle_stiffness', 'polyphagia', 'visual_blurring', 'weakness']\n",
      "[[1 1 1 ... 1 1 1]\n",
      " [1 1 1 ... 1 1 1]\n",
      " [0 0 1 ... 0 0 1]\n",
      " ...\n",
      " [1 1 1 ... 0 1 1]\n",
      " [1 1 1 ... 1 1 1]\n",
      " [0 1 1 ... 0 1 0]]\n",
      "--------------\n",
      "(No. of tuples, No. of Columns before ReliefF) : (416, 16)\n",
      "(No. of tuples , No. of Columns after ReliefF) : (416, 10)\n"
     ]
    }
   ],
   "source": [
    "fs = ReliefF()\n",
    "# fs = ReliefF(n_features_to_keep=7) # to change the number of features in the subset\n",
    "X_train_relief = fs.fit_transform(X_train.values, y_train.values)\n",
    "\n",
    "importance = fs.feature_scores\n",
    "sorted_indices = np.argsort(importance)[::-1] \n",
    "top_feature_indices = sorted_indices[:X_train_relief.shape[1]]  \n",
    "\n",
    "selected_feature_names = X_train.columns[top_feature_indices].tolist()\n",
    "\n",
    "print(\"Selected features:\", selected_feature_names)\n",
    "print(X_train_relief)\n",
    "print(\"--------------\")\n",
    "print(\"(No. of tuples, No. of Columns before ReliefF) : \"+str(X_train.shape)+\n",
    "      \"\\n(No. of tuples , No. of Columns after ReliefF) : \"+str(X_train_relief.shape))"
   ]
  },
  {
   "cell_type": "code",
   "execution_count": 11,
   "id": "176c6a30-7b06-4d89-9b20-9e53c73647c7",
   "metadata": {},
   "outputs": [
    {
     "name": "stdout",
     "output_type": "stream",
     "text": [
      "Using 1 best features...........\n",
      "Selected features: ['polyuria']\n",
      "Using 2 best features...........\n",
      "Selected features: ['polyuria', 'polydipsia']\n",
      "Using 3 best features...........\n",
      "Selected features: ['polyuria', 'polydipsia', 'sudden_weight_loss']\n",
      "Using 4 best features...........\n",
      "Selected features: ['polyuria', 'polydipsia', 'sudden_weight_loss', 'alopecia']\n",
      "Using 5 best features...........\n",
      "Selected features: ['polyuria', 'polydipsia', 'sudden_weight_loss', 'alopecia', 'gender']\n"
     ]
    },
    {
     "name": "stderr",
     "output_type": "stream",
     "text": [
      "/Users/fedecl/MachineLearning-P1-NonProbabilisticClassifiers/env/lib/python3.12/site-packages/sklearn/neural_network/_multilayer_perceptron.py:690: ConvergenceWarning: Stochastic Optimizer: Maximum iterations (200) reached and the optimization hasn't converged yet.\n",
      "  warnings.warn(\n"
     ]
    },
    {
     "name": "stdout",
     "output_type": "stream",
     "text": [
      "Using 6 best features...........\n",
      "Selected features: ['polyuria', 'polydipsia', 'sudden_weight_loss', 'alopecia', 'gender', 'partial_paresis']\n"
     ]
    },
    {
     "name": "stderr",
     "output_type": "stream",
     "text": [
      "/Users/fedecl/MachineLearning-P1-NonProbabilisticClassifiers/env/lib/python3.12/site-packages/sklearn/neural_network/_multilayer_perceptron.py:690: ConvergenceWarning: Stochastic Optimizer: Maximum iterations (200) reached and the optimization hasn't converged yet.\n",
      "  warnings.warn(\n"
     ]
    },
    {
     "name": "stdout",
     "output_type": "stream",
     "text": [
      "Using 7 best features...........\n",
      "Selected features: ['polyuria', 'polydipsia', 'sudden_weight_loss', 'alopecia', 'gender', 'partial_paresis', 'muscle_stiffness']\n"
     ]
    },
    {
     "name": "stderr",
     "output_type": "stream",
     "text": [
      "/Users/fedecl/MachineLearning-P1-NonProbabilisticClassifiers/env/lib/python3.12/site-packages/sklearn/neural_network/_multilayer_perceptron.py:690: ConvergenceWarning: Stochastic Optimizer: Maximum iterations (200) reached and the optimization hasn't converged yet.\n",
      "  warnings.warn(\n"
     ]
    },
    {
     "name": "stdout",
     "output_type": "stream",
     "text": [
      "Using 8 best features...........\n",
      "Selected features: ['polyuria', 'polydipsia', 'sudden_weight_loss', 'alopecia', 'gender', 'partial_paresis', 'muscle_stiffness', 'polyphagia']\n"
     ]
    },
    {
     "name": "stderr",
     "output_type": "stream",
     "text": [
      "/Users/fedecl/MachineLearning-P1-NonProbabilisticClassifiers/env/lib/python3.12/site-packages/sklearn/neural_network/_multilayer_perceptron.py:690: ConvergenceWarning: Stochastic Optimizer: Maximum iterations (200) reached and the optimization hasn't converged yet.\n",
      "  warnings.warn(\n"
     ]
    },
    {
     "name": "stdout",
     "output_type": "stream",
     "text": [
      "Using 9 best features...........\n",
      "Selected features: ['polyuria', 'polydipsia', 'sudden_weight_loss', 'alopecia', 'gender', 'partial_paresis', 'muscle_stiffness', 'polyphagia', 'visual_blurring']\n"
     ]
    },
    {
     "name": "stderr",
     "output_type": "stream",
     "text": [
      "/Users/fedecl/MachineLearning-P1-NonProbabilisticClassifiers/env/lib/python3.12/site-packages/sklearn/neural_network/_multilayer_perceptron.py:690: ConvergenceWarning: Stochastic Optimizer: Maximum iterations (200) reached and the optimization hasn't converged yet.\n",
      "  warnings.warn(\n"
     ]
    },
    {
     "name": "stdout",
     "output_type": "stream",
     "text": [
      "Using 10 best features...........\n",
      "Selected features: ['polyuria', 'polydipsia', 'sudden_weight_loss', 'alopecia', 'gender', 'partial_paresis', 'muscle_stiffness', 'polyphagia', 'visual_blurring', 'weakness']\n"
     ]
    },
    {
     "name": "stderr",
     "output_type": "stream",
     "text": [
      "/Users/fedecl/MachineLearning-P1-NonProbabilisticClassifiers/env/lib/python3.12/site-packages/sklearn/neural_network/_multilayer_perceptron.py:690: ConvergenceWarning: Stochastic Optimizer: Maximum iterations (200) reached and the optimization hasn't converged yet.\n",
      "  warnings.warn(\n"
     ]
    },
    {
     "name": "stdout",
     "output_type": "stream",
     "text": [
      "Using 11 best features...........\n",
      "Selected features: ['polyuria', 'polydipsia', 'sudden_weight_loss', 'alopecia', 'gender', 'partial_paresis', 'muscle_stiffness', 'polyphagia', 'visual_blurring', 'weakness', 'delayed_healing']\n"
     ]
    },
    {
     "name": "stderr",
     "output_type": "stream",
     "text": [
      "/Users/fedecl/MachineLearning-P1-NonProbabilisticClassifiers/env/lib/python3.12/site-packages/sklearn/neural_network/_multilayer_perceptron.py:690: ConvergenceWarning: Stochastic Optimizer: Maximum iterations (200) reached and the optimization hasn't converged yet.\n",
      "  warnings.warn(\n"
     ]
    },
    {
     "name": "stdout",
     "output_type": "stream",
     "text": [
      "Using 12 best features...........\n",
      "Selected features: ['polyuria', 'polydipsia', 'sudden_weight_loss', 'alopecia', 'gender', 'partial_paresis', 'muscle_stiffness', 'polyphagia', 'visual_blurring', 'weakness', 'delayed_healing', 'irritability']\n"
     ]
    },
    {
     "name": "stderr",
     "output_type": "stream",
     "text": [
      "/Users/fedecl/MachineLearning-P1-NonProbabilisticClassifiers/env/lib/python3.12/site-packages/sklearn/neural_network/_multilayer_perceptron.py:690: ConvergenceWarning: Stochastic Optimizer: Maximum iterations (200) reached and the optimization hasn't converged yet.\n",
      "  warnings.warn(\n"
     ]
    },
    {
     "name": "stdout",
     "output_type": "stream",
     "text": [
      "Using 13 best features...........\n",
      "Selected features: ['polyuria', 'polydipsia', 'sudden_weight_loss', 'alopecia', 'gender', 'partial_paresis', 'muscle_stiffness', 'polyphagia', 'visual_blurring', 'weakness', 'delayed_healing', 'irritability', 'obesity']\n"
     ]
    },
    {
     "name": "stderr",
     "output_type": "stream",
     "text": [
      "/Users/fedecl/MachineLearning-P1-NonProbabilisticClassifiers/env/lib/python3.12/site-packages/sklearn/neural_network/_multilayer_perceptron.py:690: ConvergenceWarning: Stochastic Optimizer: Maximum iterations (200) reached and the optimization hasn't converged yet.\n",
      "  warnings.warn(\n"
     ]
    },
    {
     "name": "stdout",
     "output_type": "stream",
     "text": [
      "Using 14 best features...........\n",
      "Selected features: ['polyuria', 'polydipsia', 'sudden_weight_loss', 'alopecia', 'gender', 'partial_paresis', 'muscle_stiffness', 'polyphagia', 'visual_blurring', 'weakness', 'delayed_healing', 'irritability', 'obesity', 'itching']\n"
     ]
    },
    {
     "name": "stderr",
     "output_type": "stream",
     "text": [
      "/Users/fedecl/MachineLearning-P1-NonProbabilisticClassifiers/env/lib/python3.12/site-packages/sklearn/neural_network/_multilayer_perceptron.py:690: ConvergenceWarning: Stochastic Optimizer: Maximum iterations (200) reached and the optimization hasn't converged yet.\n",
      "  warnings.warn(\n"
     ]
    },
    {
     "name": "stdout",
     "output_type": "stream",
     "text": [
      "Using 15 best features...........\n",
      "Selected features: ['polyuria', 'polydipsia', 'sudden_weight_loss', 'alopecia', 'gender', 'partial_paresis', 'muscle_stiffness', 'polyphagia', 'visual_blurring', 'weakness', 'delayed_healing', 'irritability', 'obesity', 'itching', 'genital_thrush']\n"
     ]
    },
    {
     "name": "stderr",
     "output_type": "stream",
     "text": [
      "/Users/fedecl/MachineLearning-P1-NonProbabilisticClassifiers/env/lib/python3.12/site-packages/sklearn/neural_network/_multilayer_perceptron.py:690: ConvergenceWarning: Stochastic Optimizer: Maximum iterations (200) reached and the optimization hasn't converged yet.\n",
      "  warnings.warn(\n"
     ]
    },
    {
     "name": "stdout",
     "output_type": "stream",
     "text": [
      "Using 16 best features...........\n",
      "Selected features: ['polyuria', 'polydipsia', 'sudden_weight_loss', 'alopecia', 'gender', 'partial_paresis', 'muscle_stiffness', 'polyphagia', 'visual_blurring', 'weakness', 'delayed_healing', 'irritability', 'obesity', 'itching', 'genital_thrush', 'age']\n"
     ]
    },
    {
     "name": "stderr",
     "output_type": "stream",
     "text": [
      "/Users/fedecl/MachineLearning-P1-NonProbabilisticClassifiers/env/lib/python3.12/site-packages/sklearn/neural_network/_multilayer_perceptron.py:690: ConvergenceWarning: Stochastic Optimizer: Maximum iterations (200) reached and the optimization hasn't converged yet.\n",
      "  warnings.warn(\n"
     ]
    }
   ],
   "source": [
    "df_multivar = pd.DataFrame()\n",
    "for k in range(1,17): \n",
    "    print(f'Using {k} best features...........')\n",
    "    X = df.drop(columns=['class'])\n",
    "    y = df['class']\n",
    "    fs = ReliefF(n_features_to_keep=k)\n",
    "    X_train, X_test, y_train, y_test = utils.split_data(df)\n",
    "    X_train_relief = fs.fit_transform(X_train.values, y_train.values)\n",
    "    X_test_relief = fs.transform(X_test.values) \n",
    "    importance = fs.feature_scores\n",
    "    sorted_indices = np.argsort(importance)[::-1] \n",
    "    top_feature_indices = sorted_indices[:X_train_relief.shape[1]]  \n",
    "    selected_feature_names = X_train.columns[top_feature_indices].tolist()\n",
    "    print(\"Selected features:\", selected_feature_names)\n",
    "    df_multivar_k = utils.apply_classifiers(X_train_relief, y_train, X_test_relief, y_test)\n",
    "    df_multivar_k['#features'] = k\n",
    "    df_multivar = pd.concat([df_multivar, df_multivar_k], axis=0)"
   ]
  },
  {
   "cell_type": "code",
   "execution_count": 12,
   "id": "dd215c4c-b081-4688-99b6-4c6f69451fe1",
   "metadata": {},
   "outputs": [
    {
     "data": {
      "text/html": [
       "<div>\n",
       "<style scoped>\n",
       "    .dataframe tbody tr th:only-of-type {\n",
       "        vertical-align: middle;\n",
       "    }\n",
       "\n",
       "    .dataframe tbody tr th {\n",
       "        vertical-align: top;\n",
       "    }\n",
       "\n",
       "    .dataframe thead th {\n",
       "        text-align: right;\n",
       "    }\n",
       "</style>\n",
       "<table border=\"1\" class=\"dataframe\">\n",
       "  <thead>\n",
       "    <tr style=\"text-align: right;\">\n",
       "      <th></th>\n",
       "      <th>accuracy</th>\n",
       "      <th>precision</th>\n",
       "      <th>recall</th>\n",
       "      <th>f1_score</th>\n",
       "      <th>roc_auc</th>\n",
       "      <th>Model</th>\n",
       "      <th>#features</th>\n",
       "      <th>method</th>\n",
       "    </tr>\n",
       "  </thead>\n",
       "  <tbody>\n",
       "    <tr>\n",
       "      <th>0</th>\n",
       "      <td>0.798</td>\n",
       "      <td>0.844</td>\n",
       "      <td>0.798</td>\n",
       "      <td>0.805</td>\n",
       "      <td>0.828</td>\n",
       "      <td>KNeighborsClassifier</td>\n",
       "      <td>1</td>\n",
       "      <td>Multivariate. RelieF</td>\n",
       "    </tr>\n",
       "    <tr>\n",
       "      <th>1</th>\n",
       "      <td>0.798</td>\n",
       "      <td>0.844</td>\n",
       "      <td>0.798</td>\n",
       "      <td>0.805</td>\n",
       "      <td>0.828</td>\n",
       "      <td>SVC</td>\n",
       "      <td>1</td>\n",
       "      <td>Multivariate. RelieF</td>\n",
       "    </tr>\n",
       "    <tr>\n",
       "      <th>2</th>\n",
       "      <td>0.798</td>\n",
       "      <td>0.844</td>\n",
       "      <td>0.798</td>\n",
       "      <td>0.805</td>\n",
       "      <td>0.828</td>\n",
       "      <td>MLPClassifier</td>\n",
       "      <td>1</td>\n",
       "      <td>Multivariate. RelieF</td>\n",
       "    </tr>\n",
       "    <tr>\n",
       "      <th>3</th>\n",
       "      <td>0.798</td>\n",
       "      <td>0.844</td>\n",
       "      <td>0.798</td>\n",
       "      <td>0.805</td>\n",
       "      <td>0.828</td>\n",
       "      <td>DecisionTreeClassifier</td>\n",
       "      <td>1</td>\n",
       "      <td>Multivariate. RelieF</td>\n",
       "    </tr>\n",
       "    <tr>\n",
       "      <th>0</th>\n",
       "      <td>0.865</td>\n",
       "      <td>0.872</td>\n",
       "      <td>0.865</td>\n",
       "      <td>0.867</td>\n",
       "      <td>0.905</td>\n",
       "      <td>KNeighborsClassifier</td>\n",
       "      <td>2</td>\n",
       "      <td>Multivariate. RelieF</td>\n",
       "    </tr>\n",
       "    <tr>\n",
       "      <th>...</th>\n",
       "      <td>...</td>\n",
       "      <td>...</td>\n",
       "      <td>...</td>\n",
       "      <td>...</td>\n",
       "      <td>...</td>\n",
       "      <td>...</td>\n",
       "      <td>...</td>\n",
       "      <td>...</td>\n",
       "    </tr>\n",
       "    <tr>\n",
       "      <th>3</th>\n",
       "      <td>0.962</td>\n",
       "      <td>0.963</td>\n",
       "      <td>0.962</td>\n",
       "      <td>0.962</td>\n",
       "      <td>0.978</td>\n",
       "      <td>DecisionTreeClassifier</td>\n",
       "      <td>15</td>\n",
       "      <td>Multivariate. RelieF</td>\n",
       "    </tr>\n",
       "    <tr>\n",
       "      <th>0</th>\n",
       "      <td>0.865</td>\n",
       "      <td>0.889</td>\n",
       "      <td>0.865</td>\n",
       "      <td>0.869</td>\n",
       "      <td>0.959</td>\n",
       "      <td>KNeighborsClassifier</td>\n",
       "      <td>16</td>\n",
       "      <td>Multivariate. RelieF</td>\n",
       "    </tr>\n",
       "    <tr>\n",
       "      <th>1</th>\n",
       "      <td>0.894</td>\n",
       "      <td>0.895</td>\n",
       "      <td>0.894</td>\n",
       "      <td>0.895</td>\n",
       "      <td>0.961</td>\n",
       "      <td>SVC</td>\n",
       "      <td>16</td>\n",
       "      <td>Multivariate. RelieF</td>\n",
       "    </tr>\n",
       "    <tr>\n",
       "      <th>2</th>\n",
       "      <td>0.904</td>\n",
       "      <td>0.904</td>\n",
       "      <td>0.904</td>\n",
       "      <td>0.904</td>\n",
       "      <td>0.965</td>\n",
       "      <td>MLPClassifier</td>\n",
       "      <td>16</td>\n",
       "      <td>Multivariate. RelieF</td>\n",
       "    </tr>\n",
       "    <tr>\n",
       "      <th>3</th>\n",
       "      <td>0.971</td>\n",
       "      <td>0.972</td>\n",
       "      <td>0.971</td>\n",
       "      <td>0.971</td>\n",
       "      <td>0.971</td>\n",
       "      <td>DecisionTreeClassifier</td>\n",
       "      <td>16</td>\n",
       "      <td>Multivariate. RelieF</td>\n",
       "    </tr>\n",
       "  </tbody>\n",
       "</table>\n",
       "<p>64 rows × 8 columns</p>\n",
       "</div>"
      ],
      "text/plain": [
       "    accuracy  precision  recall  f1_score  roc_auc                   Model  \\\n",
       "0      0.798      0.844   0.798     0.805    0.828    KNeighborsClassifier   \n",
       "1      0.798      0.844   0.798     0.805    0.828                     SVC   \n",
       "2      0.798      0.844   0.798     0.805    0.828           MLPClassifier   \n",
       "3      0.798      0.844   0.798     0.805    0.828  DecisionTreeClassifier   \n",
       "0      0.865      0.872   0.865     0.867    0.905    KNeighborsClassifier   \n",
       "..       ...        ...     ...       ...      ...                     ...   \n",
       "3      0.962      0.963   0.962     0.962    0.978  DecisionTreeClassifier   \n",
       "0      0.865      0.889   0.865     0.869    0.959    KNeighborsClassifier   \n",
       "1      0.894      0.895   0.894     0.895    0.961                     SVC   \n",
       "2      0.904      0.904   0.904     0.904    0.965           MLPClassifier   \n",
       "3      0.971      0.972   0.971     0.971    0.971  DecisionTreeClassifier   \n",
       "\n",
       "    #features                method  \n",
       "0           1  Multivariate. RelieF  \n",
       "1           1  Multivariate. RelieF  \n",
       "2           1  Multivariate. RelieF  \n",
       "3           1  Multivariate. RelieF  \n",
       "0           2  Multivariate. RelieF  \n",
       "..        ...                   ...  \n",
       "3          15  Multivariate. RelieF  \n",
       "0          16  Multivariate. RelieF  \n",
       "1          16  Multivariate. RelieF  \n",
       "2          16  Multivariate. RelieF  \n",
       "3          16  Multivariate. RelieF  \n",
       "\n",
       "[64 rows x 8 columns]"
      ]
     },
     "execution_count": 12,
     "metadata": {},
     "output_type": "execute_result"
    }
   ],
   "source": [
    "df_multivar['method'] = 'Multivariate. RelieF'\n",
    "df_multivar"
   ]
  },
  {
   "cell_type": "code",
   "execution_count": 13,
   "id": "7afed035-e912-4199-80b7-832469dea8ed",
   "metadata": {},
   "outputs": [
    {
     "data": {
      "image/png": "[encoded data removed]",
      "text/plain": [
       "<Figure size 640x480 with 1 Axes>"
      ]
     },
     "metadata": {},
     "output_type": "display_data"
    }
   ],
   "source": [
    "for model in df_multivar['Model'].unique():\n",
    "    df_model = df_multivar[df_multivar['Model'] == model]\n",
    "    plt.plot(df_model['#features'], df_model['accuracy'], label=model)\n",
    "\n",
    "plt.legend()    \n",
    "plt.title('Accuracy of Models with Multivariate FFS')\n",
    "plt.xlabel('Number of Features')\n",
    "plt.ylabel(\"Accuracy\")\n",
    "plt.savefig('./img/multivariate-kvalues.png')\n",
    "plt.show()"
   ]
  },
  {
   "cell_type": "markdown",
   "id": "5c66fe23-c14e-4d4e-85a6-149a6cb68d78",
   "metadata": {},
   "source": [
    "## Wrapper method"
   ]
  },
  {
   "cell_type": "code",
   "execution_count": 14,
   "id": "ae612feb-16b5-41c0-a68d-0f8c52e17815",
   "metadata": {},
   "outputs": [
    {
     "name": "stdout",
     "output_type": "stream",
     "text": [
      "Obtained 8 features: ['gender' 'polyuria' 'polydipsia' 'sudden_weight_loss' 'itching'\n",
      " 'delayed_healing' 'alopecia' 'obesity']\n"
     ]
    }
   ],
   "source": [
    "from sklearn.feature_selection import SequentialFeatureSelector\n",
    "from sklearn.neighbors import KNeighborsClassifier\n",
    "\n",
    "knn = KNeighborsClassifier(n_neighbors=10)\n",
    "sfs = SequentialFeatureSelector(knn)\n",
    "sfs.fit(X_train, y_train)\n",
    "sfs.get_support()\n",
    "X_train_wrapper = sfs.transform(X_train)\n",
    "X_test_wrapper = sfs.transform(X_test)\n",
    "features_wrapper = sfs.get_feature_names_out()\n",
    "print(f'Obtained {len(features_wrapper)} features: {features_wrapper}')"
   ]
  },
  {
   "cell_type": "code",
   "execution_count": 15,
   "id": "aa9e96de-a427-4c58-a103-07303bd1b479",
   "metadata": {},
   "outputs": [
    {
     "name": "stderr",
     "output_type": "stream",
     "text": [
      "/Users/fedecl/MachineLearning-P1-NonProbabilisticClassifiers/env/lib/python3.12/site-packages/sklearn/neural_network/_multilayer_perceptron.py:690: ConvergenceWarning: Stochastic Optimizer: Maximum iterations (200) reached and the optimization hasn't converged yet.\n",
      "  warnings.warn(\n"
     ]
    }
   ],
   "source": [
    "df_wrapper = utils.apply_classifiers(X_train_wrapper, y_train, X_test_wrapper, y_test)\n",
    "df_wrapper['#features'] = len(X_train_wrapper[0])\n",
    "df_wrapper['method'] = 'Wrapper. SFS'"
   ]
  },
  {
   "cell_type": "code",
   "execution_count": 19,
   "id": "741dc282-9a0a-4c52-9e97-2bc1cb0d4646",
   "metadata": {},
   "outputs": [
    {
     "data": {
      "text/html": [
       "<div>\n",
       "<style scoped>\n",
       "    .dataframe tbody tr th:only-of-type {\n",
       "        vertical-align: middle;\n",
       "    }\n",
       "\n",
       "    .dataframe tbody tr th {\n",
       "        vertical-align: top;\n",
       "    }\n",
       "\n",
       "    .dataframe thead th {\n",
       "        text-align: right;\n",
       "    }\n",
       "</style>\n",
       "<table border=\"1\" class=\"dataframe\">\n",
       "  <thead>\n",
       "    <tr style=\"text-align: right;\">\n",
       "      <th></th>\n",
       "      <th>method</th>\n",
       "      <th>#features</th>\n",
       "      <th>Model</th>\n",
       "      <th>accuracy</th>\n",
       "      <th>precision</th>\n",
       "      <th>recall</th>\n",
       "      <th>f1_score</th>\n",
       "      <th>roc_auc</th>\n",
       "    </tr>\n",
       "  </thead>\n",
       "  <tbody>\n",
       "    <tr>\n",
       "      <th>0</th>\n",
       "      <td>All features</td>\n",
       "      <td>16</td>\n",
       "      <td>KNeighborsClassifier</td>\n",
       "      <td>0.865</td>\n",
       "      <td>0.889</td>\n",
       "      <td>0.865</td>\n",
       "      <td>0.869</td>\n",
       "      <td>0.959</td>\n",
       "    </tr>\n",
       "    <tr>\n",
       "      <th>1</th>\n",
       "      <td>All features</td>\n",
       "      <td>16</td>\n",
       "      <td>SVC</td>\n",
       "      <td>0.894</td>\n",
       "      <td>0.895</td>\n",
       "      <td>0.894</td>\n",
       "      <td>0.895</td>\n",
       "      <td>0.961</td>\n",
       "    </tr>\n",
       "    <tr>\n",
       "      <th>2</th>\n",
       "      <td>All features</td>\n",
       "      <td>16</td>\n",
       "      <td>MLPClassifier</td>\n",
       "      <td>0.904</td>\n",
       "      <td>0.904</td>\n",
       "      <td>0.904</td>\n",
       "      <td>0.904</td>\n",
       "      <td>0.967</td>\n",
       "    </tr>\n",
       "    <tr>\n",
       "      <th>3</th>\n",
       "      <td>All features</td>\n",
       "      <td>16</td>\n",
       "      <td>DecisionTreeClassifier</td>\n",
       "      <td>0.962</td>\n",
       "      <td>0.966</td>\n",
       "      <td>0.962</td>\n",
       "      <td>0.962</td>\n",
       "      <td>0.972</td>\n",
       "    </tr>\n",
       "    <tr>\n",
       "      <th>0</th>\n",
       "      <td>Univariate</td>\n",
       "      <td>1</td>\n",
       "      <td>KNeighborsClassifier</td>\n",
       "      <td>0.798</td>\n",
       "      <td>0.854</td>\n",
       "      <td>0.798</td>\n",
       "      <td>0.805</td>\n",
       "      <td>0.836</td>\n",
       "    </tr>\n",
       "    <tr>\n",
       "      <th>...</th>\n",
       "      <td>...</td>\n",
       "      <td>...</td>\n",
       "      <td>...</td>\n",
       "      <td>...</td>\n",
       "      <td>...</td>\n",
       "      <td>...</td>\n",
       "      <td>...</td>\n",
       "      <td>...</td>\n",
       "    </tr>\n",
       "    <tr>\n",
       "      <th>3</th>\n",
       "      <td>Multivariate. RelieF</td>\n",
       "      <td>16</td>\n",
       "      <td>DecisionTreeClassifier</td>\n",
       "      <td>0.971</td>\n",
       "      <td>0.972</td>\n",
       "      <td>0.971</td>\n",
       "      <td>0.971</td>\n",
       "      <td>0.971</td>\n",
       "    </tr>\n",
       "    <tr>\n",
       "      <th>0</th>\n",
       "      <td>Wrapper. SFS</td>\n",
       "      <td>8</td>\n",
       "      <td>KNeighborsClassifier</td>\n",
       "      <td>0.933</td>\n",
       "      <td>0.933</td>\n",
       "      <td>0.933</td>\n",
       "      <td>0.933</td>\n",
       "      <td>0.969</td>\n",
       "    </tr>\n",
       "    <tr>\n",
       "      <th>1</th>\n",
       "      <td>Wrapper. SFS</td>\n",
       "      <td>8</td>\n",
       "      <td>SVC</td>\n",
       "      <td>0.942</td>\n",
       "      <td>0.947</td>\n",
       "      <td>0.942</td>\n",
       "      <td>0.941</td>\n",
       "      <td>0.975</td>\n",
       "    </tr>\n",
       "    <tr>\n",
       "      <th>2</th>\n",
       "      <td>Wrapper. SFS</td>\n",
       "      <td>8</td>\n",
       "      <td>MLPClassifier</td>\n",
       "      <td>0.952</td>\n",
       "      <td>0.952</td>\n",
       "      <td>0.952</td>\n",
       "      <td>0.952</td>\n",
       "      <td>0.994</td>\n",
       "    </tr>\n",
       "    <tr>\n",
       "      <th>3</th>\n",
       "      <td>Wrapper. SFS</td>\n",
       "      <td>8</td>\n",
       "      <td>DecisionTreeClassifier</td>\n",
       "      <td>0.952</td>\n",
       "      <td>0.955</td>\n",
       "      <td>0.952</td>\n",
       "      <td>0.952</td>\n",
       "      <td>0.966</td>\n",
       "    </tr>\n",
       "  </tbody>\n",
       "</table>\n",
       "<p>136 rows × 8 columns</p>\n",
       "</div>"
      ],
      "text/plain": [
       "                  method  #features                   Model  accuracy  \\\n",
       "0           All features         16    KNeighborsClassifier     0.865   \n",
       "1           All features         16                     SVC     0.894   \n",
       "2           All features         16           MLPClassifier     0.904   \n",
       "3           All features         16  DecisionTreeClassifier     0.962   \n",
       "0             Univariate          1    KNeighborsClassifier     0.798   \n",
       "..                   ...        ...                     ...       ...   \n",
       "3   Multivariate. RelieF         16  DecisionTreeClassifier     0.971   \n",
       "0           Wrapper. SFS          8    KNeighborsClassifier     0.933   \n",
       "1           Wrapper. SFS          8                     SVC     0.942   \n",
       "2           Wrapper. SFS          8           MLPClassifier     0.952   \n",
       "3           Wrapper. SFS          8  DecisionTreeClassifier     0.952   \n",
       "\n",
       "    precision  recall  f1_score  roc_auc  \n",
       "0       0.889   0.865     0.869    0.959  \n",
       "1       0.895   0.894     0.895    0.961  \n",
       "2       0.904   0.904     0.904    0.967  \n",
       "3       0.966   0.962     0.962    0.972  \n",
       "0       0.854   0.798     0.805    0.836  \n",
       "..        ...     ...       ...      ...  \n",
       "3       0.972   0.971     0.971    0.971  \n",
       "0       0.933   0.933     0.933    0.969  \n",
       "1       0.947   0.942     0.941    0.975  \n",
       "2       0.952   0.952     0.952    0.994  \n",
       "3       0.955   0.952     0.952    0.966  \n",
       "\n",
       "[136 rows x 8 columns]"
      ]
     },
     "execution_count": 19,
     "metadata": {},
     "output_type": "execute_result"
    }
   ],
   "source": [
    "results_all = pd.concat([df_all, df_univar, df_multivar, df_wrapper] )\n",
    "results_all = results_all[['method','#features','Model', 'accuracy', 'precision', 'recall', 'f1_score', 'roc_auc']]\n",
    "results_all"
   ]
  },
  {
   "cell_type": "code",
   "execution_count": 32,
   "id": "b0c8a82b-91e4-4487-9e39-62d22906d301",
   "metadata": {},
   "outputs": [
    {
     "data": {
      "text/html": [
       "<div>\n",
       "<style scoped>\n",
       "    .dataframe tbody tr th:only-of-type {\n",
       "        vertical-align: middle;\n",
       "    }\n",
       "\n",
       "    .dataframe tbody tr th {\n",
       "        vertical-align: top;\n",
       "    }\n",
       "\n",
       "    .dataframe thead th {\n",
       "        text-align: right;\n",
       "    }\n",
       "</style>\n",
       "<table border=\"1\" class=\"dataframe\">\n",
       "  <thead>\n",
       "    <tr style=\"text-align: right;\">\n",
       "      <th></th>\n",
       "      <th>method</th>\n",
       "      <th>#features</th>\n",
       "      <th>Model</th>\n",
       "      <th>accuracy</th>\n",
       "      <th>precision</th>\n",
       "      <th>recall</th>\n",
       "      <th>f1_score</th>\n",
       "      <th>roc_auc</th>\n",
       "    </tr>\n",
       "  </thead>\n",
       "  <tbody>\n",
       "    <tr>\n",
       "      <th>3</th>\n",
       "      <td>Multivariate. RelieF</td>\n",
       "      <td>12</td>\n",
       "      <td>DecisionTreeClassifier</td>\n",
       "      <td>0.971</td>\n",
       "      <td>0.971</td>\n",
       "      <td>0.971</td>\n",
       "      <td>0.971</td>\n",
       "      <td>0.976</td>\n",
       "    </tr>\n",
       "    <tr>\n",
       "      <th>3</th>\n",
       "      <td>Multivariate. RelieF</td>\n",
       "      <td>16</td>\n",
       "      <td>DecisionTreeClassifier</td>\n",
       "      <td>0.971</td>\n",
       "      <td>0.972</td>\n",
       "      <td>0.971</td>\n",
       "      <td>0.971</td>\n",
       "      <td>0.971</td>\n",
       "    </tr>\n",
       "    <tr>\n",
       "      <th>3</th>\n",
       "      <td>Univariate</td>\n",
       "      <td>10</td>\n",
       "      <td>DecisionTreeClassifier</td>\n",
       "      <td>0.971</td>\n",
       "      <td>0.974</td>\n",
       "      <td>0.971</td>\n",
       "      <td>0.971</td>\n",
       "      <td>0.979</td>\n",
       "    </tr>\n",
       "    <tr>\n",
       "      <th>3</th>\n",
       "      <td>All features</td>\n",
       "      <td>16</td>\n",
       "      <td>DecisionTreeClassifier</td>\n",
       "      <td>0.962</td>\n",
       "      <td>0.966</td>\n",
       "      <td>0.962</td>\n",
       "      <td>0.962</td>\n",
       "      <td>0.972</td>\n",
       "    </tr>\n",
       "    <tr>\n",
       "      <th>3</th>\n",
       "      <td>Multivariate. RelieF</td>\n",
       "      <td>11</td>\n",
       "      <td>DecisionTreeClassifier</td>\n",
       "      <td>0.962</td>\n",
       "      <td>0.963</td>\n",
       "      <td>0.962</td>\n",
       "      <td>0.962</td>\n",
       "      <td>0.976</td>\n",
       "    </tr>\n",
       "    <tr>\n",
       "      <th>...</th>\n",
       "      <td>...</td>\n",
       "      <td>...</td>\n",
       "      <td>...</td>\n",
       "      <td>...</td>\n",
       "      <td>...</td>\n",
       "      <td>...</td>\n",
       "      <td>...</td>\n",
       "      <td>...</td>\n",
       "    </tr>\n",
       "    <tr>\n",
       "      <th>3</th>\n",
       "      <td>Univariate</td>\n",
       "      <td>1</td>\n",
       "      <td>DecisionTreeClassifier</td>\n",
       "      <td>0.798</td>\n",
       "      <td>0.854</td>\n",
       "      <td>0.798</td>\n",
       "      <td>0.805</td>\n",
       "      <td>0.836</td>\n",
       "    </tr>\n",
       "    <tr>\n",
       "      <th>2</th>\n",
       "      <td>Univariate</td>\n",
       "      <td>1</td>\n",
       "      <td>MLPClassifier</td>\n",
       "      <td>0.798</td>\n",
       "      <td>0.854</td>\n",
       "      <td>0.798</td>\n",
       "      <td>0.805</td>\n",
       "      <td>0.836</td>\n",
       "    </tr>\n",
       "    <tr>\n",
       "      <th>1</th>\n",
       "      <td>Univariate</td>\n",
       "      <td>1</td>\n",
       "      <td>SVC</td>\n",
       "      <td>0.798</td>\n",
       "      <td>0.854</td>\n",
       "      <td>0.798</td>\n",
       "      <td>0.805</td>\n",
       "      <td>0.836</td>\n",
       "    </tr>\n",
       "    <tr>\n",
       "      <th>0</th>\n",
       "      <td>Univariate</td>\n",
       "      <td>1</td>\n",
       "      <td>KNeighborsClassifier</td>\n",
       "      <td>0.798</td>\n",
       "      <td>0.854</td>\n",
       "      <td>0.798</td>\n",
       "      <td>0.805</td>\n",
       "      <td>0.836</td>\n",
       "    </tr>\n",
       "    <tr>\n",
       "      <th>0</th>\n",
       "      <td>Multivariate. RelieF</td>\n",
       "      <td>1</td>\n",
       "      <td>KNeighborsClassifier</td>\n",
       "      <td>0.798</td>\n",
       "      <td>0.844</td>\n",
       "      <td>0.798</td>\n",
       "      <td>0.805</td>\n",
       "      <td>0.828</td>\n",
       "    </tr>\n",
       "  </tbody>\n",
       "</table>\n",
       "<p>136 rows × 8 columns</p>\n",
       "</div>"
      ],
      "text/plain": [
       "                  method  #features                   Model  accuracy  \\\n",
       "3   Multivariate. RelieF         12  DecisionTreeClassifier     0.971   \n",
       "3   Multivariate. RelieF         16  DecisionTreeClassifier     0.971   \n",
       "3             Univariate         10  DecisionTreeClassifier     0.971   \n",
       "3           All features         16  DecisionTreeClassifier     0.962   \n",
       "3   Multivariate. RelieF         11  DecisionTreeClassifier     0.962   \n",
       "..                   ...        ...                     ...       ...   \n",
       "3             Univariate          1  DecisionTreeClassifier     0.798   \n",
       "2             Univariate          1           MLPClassifier     0.798   \n",
       "1             Univariate          1                     SVC     0.798   \n",
       "0             Univariate          1    KNeighborsClassifier     0.798   \n",
       "0   Multivariate. RelieF          1    KNeighborsClassifier     0.798   \n",
       "\n",
       "    precision  recall  f1_score  roc_auc  \n",
       "3       0.971   0.971     0.971    0.976  \n",
       "3       0.972   0.971     0.971    0.971  \n",
       "3       0.974   0.971     0.971    0.979  \n",
       "3       0.966   0.962     0.962    0.972  \n",
       "3       0.963   0.962     0.962    0.976  \n",
       "..        ...     ...       ...      ...  \n",
       "3       0.854   0.798     0.805    0.836  \n",
       "2       0.854   0.798     0.805    0.836  \n",
       "1       0.854   0.798     0.805    0.836  \n",
       "0       0.854   0.798     0.805    0.836  \n",
       "0       0.844   0.798     0.805    0.828  \n",
       "\n",
       "[136 rows x 8 columns]"
      ]
     },
     "execution_count": 32,
     "metadata": {},
     "output_type": "execute_result"
    }
   ],
   "source": [
    "results_all.sort_values(by='accuracy', ascending=False)"
   ]
  }
 ],
 "metadata": {
  "kernelspec": {
   "display_name": "Python 3 (ipykernel)",
   "language": "python",
   "name": "python3"
  },
  "language_info": {
   "codemirror_mode": {
    "name": "ipython",
    "version": 3
   },
   "file_extension": ".py",
   "mimetype": "text/x-python",
   "name": "python",
   "nbconvert_exporter": "python",
   "pygments_lexer": "ipython3",
   "version": "3.12.5"
  }
 },
 "nbformat": 4,
 "nbformat_minor": 5
}
