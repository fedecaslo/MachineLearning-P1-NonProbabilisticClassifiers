{
 "cells": [
  {
   "cell_type": "code",
   "execution_count": 1,
   "id": "8befe80c-f939-4bb2-8d0c-bd4a2dc697b0",
   "metadata": {},
   "outputs": [],
   "source": [
    "import pandas as pd\n",
    "%load_ext autoreload\n",
    "%autoreload 2\n",
    "import utils\n",
    "import numpy as np\n",
    "import matplotlib.pyplot as plt"
   ]
  },
  {
   "cell_type": "code",
   "execution_count": 3,
   "id": "5c4fd5d3-3a81-4d90-897e-ae0daf394f59",
   "metadata": {},
   "outputs": [],
   "source": [
    "df = pd.read_csv('./data/diabetes_data.csv')\n",
    "df = utils.clean_data(df)\n",
    "X_train, X_test, y_train, y_test = utils.split_data(df)"
   ]
  },
  {
   "cell_type": "markdown",
   "id": "8ae484f4-10da-450f-bb6e-514176e9d819",
   "metadata": {},
   "source": [
    "## Logistic Regression"
   ]
  },
  {
   "cell_type": "code",
   "execution_count": 28,
   "id": "fd4e53d9-7e29-41d0-912e-7c0038011466",
   "metadata": {
    "scrolled": true
   },
   "outputs": [
    {
     "name": "stdout",
     "output_type": "stream",
     "text": [
      "Using C: 0.001 .....\n",
      "\tage: 0.012189517394886905\n",
      "\tgender: 0.040692281340557884\n",
      "\tpolyuria: 0.06343650912052941\n",
      "\tpolydipsia: 0.060635032474932786\n",
      "\tsudden_weight_loss: 0.04176310640186889\n",
      "\tweakness: 0.019667641907545583\n",
      "\tpolyphagia: 0.025223375057295293\n",
      "\tgenital_thrush: 0.011070969250881779\n",
      "\tvisual_blurring: 0.01993760750617924\n",
      "\titching: -0.004916475596294789\n",
      "\tirritability: 0.024173991576166044\n",
      "\tdelayed_healing: 0.0009864198190398439\n",
      "\tpartial_paresis: 0.03685652036432929\n",
      "\tmuscle_stiffness: 0.006230832602574247\n",
      "\talopecia: -0.026667595610337026\n",
      "\tobesity: 0.00326328182064411\n",
      "\n",
      "Using C: 0.01 .....\n",
      "\tage: 0.004295812277551606\n",
      "\tgender: 0.2737258217119623\n",
      "\tpolyuria: 0.4277757037061664\n",
      "\tpolydipsia: 0.39860728362745595\n",
      "\tsudden_weight_loss: 0.2615282378216891\n",
      "\tweakness: 0.11043111090684808\n",
      "\tpolyphagia: 0.14357685487092597\n",
      "\tgenital_thrush: 0.1015818932313009\n",
      "\tvisual_blurring: 0.11376608055216524\n",
      "\titching: -0.05534232617714832\n",
      "\tirritability: 0.1693818083351564\n",
      "\tdelayed_healing: -0.020262591102606618\n",
      "\tpartial_paresis: 0.22202025344490037\n",
      "\tmuscle_stiffness: 0.011505244870482404\n",
      "\talopecia: -0.16042798138961148\n",
      "\tobesity: 0.017172264998224166\n",
      "\n",
      "Using C: 0.1 .....\n",
      "\tage: -0.012637103993051088\n",
      "\tgender: 1.016275809799972\n",
      "\tpolyuria: 1.351440845505732\n",
      "\tpolydipsia: 1.2500153813611066\n",
      "\tsudden_weight_loss: 0.6743510549122581\n",
      "\tweakness: 0.2707944401772658\n",
      "\tpolyphagia: 0.3168268453346449\n",
      "\tgenital_thrush: 0.5144893822987776\n",
      "\tvisual_blurring: 0.31321537074555594\n",
      "\titching: -0.34294151546463175\n",
      "\tirritability: 0.6487200989144114\n",
      "\tdelayed_healing: -0.21034832638222206\n",
      "\tpartial_paresis: 0.5991746133686835\n",
      "\tmuscle_stiffness: -0.07791345065541212\n",
      "\talopecia: -0.3078107515788787\n",
      "\tobesity: -0.010139109934365917\n",
      "\n",
      "Using C: 1 .....\n",
      "\tage: -0.0378249411007836\n",
      "\tgender: 2.388082382214989\n",
      "\tpolyuria: 2.580572112706005\n",
      "\tpolydipsia: 2.632931778063332\n",
      "\tsudden_weight_loss: 0.9098876308056695\n",
      "\tweakness: 0.5259668571983129\n",
      "\tpolyphagia: 0.45684039196547455\n",
      "\tgenital_thrush: 1.3392546870773756\n",
      "\tvisual_blurring: 0.790990131937643\n",
      "\titching: -1.2023130184965505\n",
      "\tirritability: 1.4545785536230242\n",
      "\tdelayed_healing: -0.5540759363486056\n",
      "\tpartial_paresis: 1.0235914658778476\n",
      "\tmuscle_stiffness: -0.1745623897361704\n",
      "\talopecia: -0.15203040834084547\n",
      "\tobesity: -0.1863282581821207\n",
      "\n",
      "Using C: 10 .....\n",
      "\tage: -0.05449956830748121\n",
      "\tgender: 3.468248282902809\n",
      "\tpolyuria: 3.672714479532475\n",
      "\tpolydipsia: 4.032775430568873\n",
      "\tsudden_weight_loss: 0.83089553390153\n",
      "\tweakness: 0.7642668420726709\n",
      "\tpolyphagia: 0.5719196096880341\n",
      "\tgenital_thrush: 2.087883026067087\n",
      "\tvisual_blurring: 1.295499661850205\n",
      "\titching: -2.2232076388637605\n",
      "\tirritability: 2.084457063063727\n",
      "\tdelayed_healing: -0.7597219447597322\n",
      "\tpartial_paresis: 1.2220902906908815\n",
      "\tmuscle_stiffness: -0.3020912154274658\n",
      "\talopecia: 0.05966380230052874\n",
      "\tobesity: -0.36756931873926735\n",
      "\n",
      "Using C: 100 .....\n",
      "\tage: -0.06028692867918958\n",
      "\tgender: 3.786720758121461\n",
      "\tpolyuria: 4.027678687431884\n",
      "\tpolydipsia: 4.489007423589618\n",
      "\tsudden_weight_loss: 0.7860637175169668\n",
      "\tweakness: 0.8209157245375591\n",
      "\tpolyphagia: 0.6160545586721936\n",
      "\tgenital_thrush: 2.3314677253940683\n",
      "\tvisual_blurring: 1.4742278503808077\n",
      "\titching: -2.57208737221232\n",
      "\tirritability: 2.2514462644123996\n",
      "\tdelayed_healing: -0.7923514749037825\n",
      "\tpartial_paresis: 1.2915575493351235\n",
      "\tmuscle_stiffness: -0.3263876041654284\n",
      "\talopecia: 0.13197594693588507\n",
      "\tobesity: -0.42358650077000237\n",
      "\n"
     ]
    },
    {
     "name": "stderr",
     "output_type": "stream",
     "text": [
      "/Users/fedecl/MachineLearning-P1-NonProbabilisticClassifiers/env/lib/python3.12/site-packages/sklearn/metrics/_classification.py:1531: UndefinedMetricWarning: Precision is ill-defined and being set to 0.0 in labels with no predicted samples. Use `zero_division` parameter to control this behavior.\n",
      "  _warn_prf(average, modifier, f\"{metric.capitalize()} is\", len(result))\n",
      "/Users/fedecl/MachineLearning-P1-NonProbabilisticClassifiers/env/lib/python3.12/site-packages/sklearn/linear_model/_logistic.py:469: ConvergenceWarning: lbfgs failed to converge (status=1):\n",
      "STOP: TOTAL NO. of ITERATIONS REACHED LIMIT.\n",
      "\n",
      "Increase the number of iterations (max_iter) or scale the data as shown in:\n",
      "    https://scikit-learn.org/stable/modules/preprocessing.html\n",
      "Please also refer to the documentation for alternative solver options:\n",
      "    https://scikit-learn.org/stable/modules/linear_model.html#logistic-regression\n",
      "  n_iter_i = _check_optimize_result(\n"
     ]
    },
    {
     "data": {
      "text/html": [
       "<div>\n",
       "<style scoped>\n",
       "    .dataframe tbody tr th:only-of-type {\n",
       "        vertical-align: middle;\n",
       "    }\n",
       "\n",
       "    .dataframe tbody tr th {\n",
       "        vertical-align: top;\n",
       "    }\n",
       "\n",
       "    .dataframe thead th {\n",
       "        text-align: right;\n",
       "    }\n",
       "</style>\n",
       "<table border=\"1\" class=\"dataframe\">\n",
       "  <thead>\n",
       "    <tr style=\"text-align: right;\">\n",
       "      <th></th>\n",
       "      <th>accuracy</th>\n",
       "      <th>precision</th>\n",
       "      <th>recall</th>\n",
       "      <th>f1_score</th>\n",
       "      <th>roc_auc</th>\n",
       "      <th>Model</th>\n",
       "      <th>C</th>\n",
       "    </tr>\n",
       "  </thead>\n",
       "  <tbody>\n",
       "    <tr>\n",
       "      <th>0</th>\n",
       "      <td>0.683</td>\n",
       "      <td>0.466</td>\n",
       "      <td>0.683</td>\n",
       "      <td>0.554</td>\n",
       "      <td>0.856</td>\n",
       "      <td>LogisticRegression</td>\n",
       "      <td>0.001</td>\n",
       "    </tr>\n",
       "    <tr>\n",
       "      <th>0</th>\n",
       "      <td>0.904</td>\n",
       "      <td>0.903</td>\n",
       "      <td>0.904</td>\n",
       "      <td>0.903</td>\n",
       "      <td>0.955</td>\n",
       "      <td>LogisticRegression</td>\n",
       "      <td>0.010</td>\n",
       "    </tr>\n",
       "    <tr>\n",
       "      <th>0</th>\n",
       "      <td>0.904</td>\n",
       "      <td>0.906</td>\n",
       "      <td>0.904</td>\n",
       "      <td>0.905</td>\n",
       "      <td>0.962</td>\n",
       "      <td>LogisticRegression</td>\n",
       "      <td>0.100</td>\n",
       "    </tr>\n",
       "    <tr>\n",
       "      <th>0</th>\n",
       "      <td>0.923</td>\n",
       "      <td>0.923</td>\n",
       "      <td>0.923</td>\n",
       "      <td>0.922</td>\n",
       "      <td>0.971</td>\n",
       "      <td>LogisticRegression</td>\n",
       "      <td>1.000</td>\n",
       "    </tr>\n",
       "    <tr>\n",
       "      <th>0</th>\n",
       "      <td>0.923</td>\n",
       "      <td>0.923</td>\n",
       "      <td>0.923</td>\n",
       "      <td>0.922</td>\n",
       "      <td>0.977</td>\n",
       "      <td>LogisticRegression</td>\n",
       "      <td>10.000</td>\n",
       "    </tr>\n",
       "    <tr>\n",
       "      <th>0</th>\n",
       "      <td>0.923</td>\n",
       "      <td>0.923</td>\n",
       "      <td>0.923</td>\n",
       "      <td>0.922</td>\n",
       "      <td>0.977</td>\n",
       "      <td>LogisticRegression</td>\n",
       "      <td>100.000</td>\n",
       "    </tr>\n",
       "  </tbody>\n",
       "</table>\n",
       "</div>"
      ],
      "text/plain": [
       "   accuracy  precision  recall  f1_score  roc_auc               Model        C\n",
       "0     0.683      0.466   0.683     0.554    0.856  LogisticRegression    0.001\n",
       "0     0.904      0.903   0.904     0.903    0.955  LogisticRegression    0.010\n",
       "0     0.904      0.906   0.904     0.905    0.962  LogisticRegression    0.100\n",
       "0     0.923      0.923   0.923     0.922    0.971  LogisticRegression    1.000\n",
       "0     0.923      0.923   0.923     0.922    0.977  LogisticRegression   10.000\n",
       "0     0.923      0.923   0.923     0.922    0.977  LogisticRegression  100.000"
      ]
     },
     "execution_count": 28,
     "metadata": {},
     "output_type": "execute_result"
    }
   ],
   "source": [
    "from sklearn.linear_model import LogisticRegression\n",
    "\n",
    "results_lr = pd.DataFrame()\n",
    "for c in [0.001, 0.01, 0.1, 1, 10 , 100]:\n",
    "    \n",
    "    lr_model = LogisticRegression(max_iter=100, random_state=42, C=c)\n",
    "    lr_model.fit(X_train, y_train)\n",
    "    lr_metrics = utils.evaluate_model(lr_model, X_test, y_test, False, False)\n",
    "    lr_metrics['Model'] = 'LogisticRegression'\n",
    "    lr_metrics['C'] = c\n",
    "    print('Using C:', c, '.....')\n",
    "    df_lr = pd.DataFrame([lr_metrics])\n",
    "    results_lr = pd.concat([results_lr, df_lr])\n",
    "    for feature, coef in zip(df.columns, lr_model.coef_[0]):\n",
    "        print(f'\\t{feature}: {coef}')\n",
    "    print()\n",
    "    \n",
    "\n",
    "results_lr\n",
    "\n"
   ]
  },
  {
   "cell_type": "markdown",
   "id": "c22d2cfc-9cde-40d3-be19-b19086965406",
   "metadata": {},
   "source": [
    "## Discriminant Analysis"
   ]
  },
  {
   "cell_type": "markdown",
   "id": "2da73a67-ee10-4413-a221-a8f99d358189",
   "metadata": {},
   "source": [
    "### LDA"
   ]
  },
  {
   "cell_type": "code",
   "execution_count": 63,
   "id": "f418dfaa-afcc-49ed-91bc-8a66daadb59c",
   "metadata": {},
   "outputs": [
    {
     "data": {
      "image/png": "[encoded data removed]",
      "text/plain": [
       "<Figure size 640x480 with 1 Axes>"
      ]
     },
     "metadata": {},
     "output_type": "display_data"
    },
    {
     "data": {
      "image/png": "[encoded data removed]",
      "text/plain": [
       "<Figure size 640x480 with 2 Axes>"
      ]
     },
     "metadata": {},
     "output_type": "display_data"
    },
    {
     "data": {
      "text/html": [
       "<div>\n",
       "<style scoped>\n",
       "    .dataframe tbody tr th:only-of-type {\n",
       "        vertical-align: middle;\n",
       "    }\n",
       "\n",
       "    .dataframe tbody tr th {\n",
       "        vertical-align: top;\n",
       "    }\n",
       "\n",
       "    .dataframe thead th {\n",
       "        text-align: right;\n",
       "    }\n",
       "</style>\n",
       "<table border=\"1\" class=\"dataframe\">\n",
       "  <thead>\n",
       "    <tr style=\"text-align: right;\">\n",
       "      <th></th>\n",
       "      <th>accuracy</th>\n",
       "      <th>precision</th>\n",
       "      <th>recall</th>\n",
       "      <th>f1_score</th>\n",
       "      <th>roc_auc</th>\n",
       "      <th>Model</th>\n",
       "    </tr>\n",
       "  </thead>\n",
       "  <tbody>\n",
       "    <tr>\n",
       "      <th>0</th>\n",
       "      <td>0.875</td>\n",
       "      <td>0.883</td>\n",
       "      <td>0.875</td>\n",
       "      <td>0.877</td>\n",
       "      <td>0.968</td>\n",
       "      <td>LinearDiscriminantAnalysis</td>\n",
       "    </tr>\n",
       "  </tbody>\n",
       "</table>\n",
       "</div>"
      ],
      "text/plain": [
       "   accuracy  precision  recall  f1_score  roc_auc                       Model\n",
       "0     0.875      0.883   0.875     0.877    0.968  LinearDiscriminantAnalysis"
      ]
     },
     "execution_count": 63,
     "metadata": {},
     "output_type": "execute_result"
    }
   ],
   "source": [
    "from sklearn.discriminant_analysis import LinearDiscriminantAnalysis\n",
    "\n",
    "lda_model = LinearDiscriminantAnalysis()\n",
    "lda_model.fit(X_train, y_train)\n",
    "lda_metrics = utils.evaluate_model(lda_model, X_test, y_test, True, True)\n",
    "lda_metrics['Model'] = 'LinearDiscriminantAnalysis'\n",
    "results_da = pd.DataFrame([lda_metrics])\n",
    "results_da"
   ]
  },
  {
   "cell_type": "code",
   "execution_count": 64,
   "id": "2984b6c8-4df6-405e-8b59-2459b8c471f8",
   "metadata": {},
   "outputs": [
    {
     "name": "stdout",
     "output_type": "stream",
     "text": [
      "\tage: -0.014863821953004838\n",
      "\tgender: 3.040107293962727\n",
      "\tpolyuria: 3.951542213374365\n",
      "\tpolydipsia: 3.180618439395473\n",
      "\tsudden_weight_loss: 1.0036212913404854\n",
      "\tweakness: 0.49706252263396633\n",
      "\tpolyphagia: 0.4288760934843352\n",
      "\tgenital_thrush: 2.259738509148042\n",
      "\tvisual_blurring: 0.8321751460277369\n",
      "\titching: -1.3036818484339072\n",
      "\tirritability: 1.7685351722511031\n",
      "\tdelayed_healing: -1.059962971198933\n",
      "\tpartial_paresis: 1.0477491620348907\n",
      "\tmuscle_stiffness: -0.48210535961317247\n",
      "\talopecia: -0.003344079291353433\n",
      "\tobesity: -0.3669419875890664\n"
     ]
    }
   ],
   "source": [
    "for feature, coef in zip(df.columns, lda_model.coef_[0]):\n",
    "        print(f'\\t{feature}: {coef}')"
   ]
  },
  {
   "cell_type": "markdown",
   "id": "02c119d1-ff37-48fd-9901-1466314f2712",
   "metadata": {},
   "source": [
    "### QDA"
   ]
  },
  {
   "cell_type": "code",
   "execution_count": 65,
   "id": "acf25d7b-3883-4767-bed7-67227d08aac1",
   "metadata": {},
   "outputs": [
    {
     "data": {
      "image/png": "[encoded data removed]",
      "text/plain": [
       "<Figure size 640x480 with 1 Axes>"
      ]
     },
     "metadata": {},
     "output_type": "display_data"
    },
    {
     "data": {
      "image/png": "[encoded data removed]",
      "text/plain": [
       "<Figure size 640x480 with 2 Axes>"
      ]
     },
     "metadata": {},
     "output_type": "display_data"
    },
    {
     "data": {
      "text/html": [
       "<div>\n",
       "<style scoped>\n",
       "    .dataframe tbody tr th:only-of-type {\n",
       "        vertical-align: middle;\n",
       "    }\n",
       "\n",
       "    .dataframe tbody tr th {\n",
       "        vertical-align: top;\n",
       "    }\n",
       "\n",
       "    .dataframe thead th {\n",
       "        text-align: right;\n",
       "    }\n",
       "</style>\n",
       "<table border=\"1\" class=\"dataframe\">\n",
       "  <thead>\n",
       "    <tr style=\"text-align: right;\">\n",
       "      <th></th>\n",
       "      <th>accuracy</th>\n",
       "      <th>precision</th>\n",
       "      <th>recall</th>\n",
       "      <th>f1_score</th>\n",
       "      <th>roc_auc</th>\n",
       "      <th>Model</th>\n",
       "    </tr>\n",
       "  </thead>\n",
       "  <tbody>\n",
       "    <tr>\n",
       "      <th>0</th>\n",
       "      <td>0.875</td>\n",
       "      <td>0.883</td>\n",
       "      <td>0.875</td>\n",
       "      <td>0.877</td>\n",
       "      <td>0.968</td>\n",
       "      <td>LinearDiscriminantAnalysis</td>\n",
       "    </tr>\n",
       "    <tr>\n",
       "      <th>0</th>\n",
       "      <td>0.942</td>\n",
       "      <td>0.944</td>\n",
       "      <td>0.942</td>\n",
       "      <td>0.941</td>\n",
       "      <td>0.992</td>\n",
       "      <td>QuadraticDiscriminantAnalysis</td>\n",
       "    </tr>\n",
       "  </tbody>\n",
       "</table>\n",
       "</div>"
      ],
      "text/plain": [
       "   accuracy  precision  recall  f1_score  roc_auc  \\\n",
       "0     0.875      0.883   0.875     0.877    0.968   \n",
       "0     0.942      0.944   0.942     0.941    0.992   \n",
       "\n",
       "                           Model  \n",
       "0     LinearDiscriminantAnalysis  \n",
       "0  QuadraticDiscriminantAnalysis  "
      ]
     },
     "execution_count": 65,
     "metadata": {},
     "output_type": "execute_result"
    }
   ],
   "source": [
    "from sklearn.discriminant_analysis import QuadraticDiscriminantAnalysis\n",
    "\n",
    "qda_model = QuadraticDiscriminantAnalysis()\n",
    "qda_model.fit(X_train, y_train)\n",
    "qda_metrics = utils.evaluate_model(qda_model, X_test, y_test, True, True)\n",
    "qda_metrics['Model'] = 'QuadraticDiscriminantAnalysis'\n",
    "results_da = pd.concat([results_da, pd.DataFrame([qda_metrics])])\n",
    "results_da"
   ]
  },
  {
   "cell_type": "markdown",
   "id": "31d53654-1175-427b-afc5-9fa9166d8c6c",
   "metadata": {},
   "source": [
    "## Bayesian"
   ]
  },
  {
   "cell_type": "code",
   "execution_count": 67,
   "id": "a842d008-639d-49bc-bf0d-935642ebc38a",
   "metadata": {},
   "outputs": [
    {
     "data": {
      "text/html": [
       "<div>\n",
       "<style scoped>\n",
       "    .dataframe tbody tr th:only-of-type {\n",
       "        vertical-align: middle;\n",
       "    }\n",
       "\n",
       "    .dataframe tbody tr th {\n",
       "        vertical-align: top;\n",
       "    }\n",
       "\n",
       "    .dataframe thead th {\n",
       "        text-align: right;\n",
       "    }\n",
       "</style>\n",
       "<table border=\"1\" class=\"dataframe\">\n",
       "  <thead>\n",
       "    <tr style=\"text-align: right;\">\n",
       "      <th></th>\n",
       "      <th>accuracy</th>\n",
       "      <th>precision</th>\n",
       "      <th>recall</th>\n",
       "      <th>f1_score</th>\n",
       "      <th>roc_auc</th>\n",
       "      <th>Model</th>\n",
       "    </tr>\n",
       "  </thead>\n",
       "  <tbody>\n",
       "    <tr>\n",
       "      <th>0</th>\n",
       "      <td>0.837</td>\n",
       "      <td>0.851</td>\n",
       "      <td>0.837</td>\n",
       "      <td>0.84</td>\n",
       "      <td>0.951</td>\n",
       "      <td>BernoulliNB</td>\n",
       "    </tr>\n",
       "  </tbody>\n",
       "</table>\n",
       "</div>"
      ],
      "text/plain": [
       "   accuracy  precision  recall  f1_score  roc_auc        Model\n",
       "0     0.837      0.851   0.837      0.84    0.951  BernoulliNB"
      ]
     },
     "execution_count": 67,
     "metadata": {},
     "output_type": "execute_result"
    }
   ],
   "source": [
    "from sklearn.naive_bayes import GaussianNB, BernoulliNB\n",
    "\n",
    "nb_model = BernoulliNB()\n",
    "nb_model.fit(X_train, y_train)\n",
    "nb_metrics = utils.evaluate_model(nb_model, X_test, y_test, False, False)\n",
    "nb_metrics['Model'] = 'BernoulliNB'\n",
    "results_nb = pd.DataFrame([nb_metrics])\n",
    "results_nb"
   ]
  },
  {
   "cell_type": "markdown",
   "id": "27da9920-bfe1-4e56-a856-9ffe91f28079",
   "metadata": {},
   "source": [
    "## Meta-classifiers"
   ]
  },
  {
   "cell_type": "code",
   "execution_count": 71,
   "id": "9cc9131b-8907-4358-9d03-01227acdc41e",
   "metadata": {},
   "outputs": [
    {
     "name": "stderr",
     "output_type": "stream",
     "text": [
      "/Users/fedecl/MachineLearning-P1-NonProbabilisticClassifiers/env/lib/python3.12/site-packages/sklearn/ensemble/_weight_boosting.py:527: FutureWarning: The SAMME.R algorithm (the default) is deprecated and will be removed in 1.6. Use the SAMME algorithm to circumvent this warning.\n",
      "  warnings.warn(\n"
     ]
    }
   ],
   "source": [
    "from sklearn.ensemble import StackingClassifier, BaggingClassifier, AdaBoostClassifier, RandomForestClassifier, VotingClassifier\n",
    "from sklearn.svm import SVC\n",
    "from sklearn.linear_model import LogisticRegression\n",
    "from sklearn.tree import DecisionTreeClassifier\n",
    "from sklearn.naive_bayes import BernoulliNB\n",
    "\n",
    "results_ensemble = []\n",
    "base_learners = [\n",
    "        ('bnb', BernoulliNB()),\n",
    "        ('svm', SVC(probability=True, random_state=42)),\n",
    "        ('dt', DecisionTreeClassifier(random_state=42))\n",
    "    ]\n",
    "stack_model = StackingClassifier(estimators=base_learners, final_estimator=LogisticRegression())\n",
    "stack_model.fit(X_train, y_train)\n",
    "stack_metrics = utils.evaluate_model(stack_model, X_test, y_test, False, False)\n",
    "stack_metrics['Model'] = 'StackingClassifier'\n",
    "results_ensemble.append(stack_metrics)\n",
    "\n",
    "bag_model = BaggingClassifier(estimator=BernoulliNB(), random_state=42)\n",
    "bag_model.fit(X_train, y_train)\n",
    "bag_metrics = utils.evaluate_model(bag_model, X_test, y_test, False, False)\n",
    "bag_metrics['Model'] = 'BaggingClassifier'\n",
    "results_ensemble.append(bag_metrics)\n",
    "\n",
    "boost_model = AdaBoostClassifier(estimator=BernoulliNB(), random_state=42)\n",
    "boost_model.fit(X_train, y_train)\n",
    "boost_metrics = utils.evaluate_model(boost_model, X_test, y_test, False, False)\n",
    "boost_metrics['Model'] = 'AdaBoostClassifier'\n",
    "results_ensemble.append(boost_metrics)\n",
    "\n",
    "rf_model = RandomForestClassifier(n_estimators=100, random_state=42)\n",
    "rf_model.fit(X_train, y_train)\n",
    "rf_metrics = utils.evaluate_model(rf_model, X_test, y_test, False, False)\n",
    "rf_metrics['Model'] = 'RandomForestClassifier'\n",
    "results_ensemble.append(rf_metrics)"
   ]
  },
  {
   "cell_type": "code",
   "execution_count": 77,
   "id": "bd185cde-8a97-488d-aaaf-cb3054eac335",
   "metadata": {},
   "outputs": [],
   "source": [
    "results_ensemble = pd.DataFrame(results_ensemble)"
   ]
  },
  {
   "cell_type": "code",
   "execution_count": 79,
   "id": "82227817-672e-42fd-820d-9737d46076c3",
   "metadata": {},
   "outputs": [
    {
     "data": {
      "text/html": [
       "<div>\n",
       "<style scoped>\n",
       "    .dataframe tbody tr th:only-of-type {\n",
       "        vertical-align: middle;\n",
       "    }\n",
       "\n",
       "    .dataframe tbody tr th {\n",
       "        vertical-align: top;\n",
       "    }\n",
       "\n",
       "    .dataframe thead th {\n",
       "        text-align: right;\n",
       "    }\n",
       "</style>\n",
       "<table border=\"1\" class=\"dataframe\">\n",
       "  <thead>\n",
       "    <tr style=\"text-align: right;\">\n",
       "      <th></th>\n",
       "      <th>accuracy</th>\n",
       "      <th>precision</th>\n",
       "      <th>recall</th>\n",
       "      <th>f1_score</th>\n",
       "      <th>roc_auc</th>\n",
       "      <th>Model</th>\n",
       "    </tr>\n",
       "  </thead>\n",
       "  <tbody>\n",
       "    <tr>\n",
       "      <th>0</th>\n",
       "      <td>0.837</td>\n",
       "      <td>0.851</td>\n",
       "      <td>0.837</td>\n",
       "      <td>0.840</td>\n",
       "      <td>0.951</td>\n",
       "      <td>BernoulliNB</td>\n",
       "    </tr>\n",
       "    <tr>\n",
       "      <th>0</th>\n",
       "      <td>0.962</td>\n",
       "      <td>0.966</td>\n",
       "      <td>0.962</td>\n",
       "      <td>0.962</td>\n",
       "      <td>0.997</td>\n",
       "      <td>StackingClassifier</td>\n",
       "    </tr>\n",
       "    <tr>\n",
       "      <th>1</th>\n",
       "      <td>0.846</td>\n",
       "      <td>0.858</td>\n",
       "      <td>0.846</td>\n",
       "      <td>0.849</td>\n",
       "      <td>0.953</td>\n",
       "      <td>BaggingClassifier</td>\n",
       "    </tr>\n",
       "    <tr>\n",
       "      <th>2</th>\n",
       "      <td>0.894</td>\n",
       "      <td>0.895</td>\n",
       "      <td>0.894</td>\n",
       "      <td>0.895</td>\n",
       "      <td>0.980</td>\n",
       "      <td>AdaBoostClassifier</td>\n",
       "    </tr>\n",
       "    <tr>\n",
       "      <th>3</th>\n",
       "      <td>0.990</td>\n",
       "      <td>0.991</td>\n",
       "      <td>0.990</td>\n",
       "      <td>0.990</td>\n",
       "      <td>1.000</td>\n",
       "      <td>RandomForestClassifier</td>\n",
       "    </tr>\n",
       "  </tbody>\n",
       "</table>\n",
       "</div>"
      ],
      "text/plain": [
       "   accuracy  precision  recall  f1_score  roc_auc                   Model\n",
       "0     0.837      0.851   0.837     0.840    0.951             BernoulliNB\n",
       "0     0.962      0.966   0.962     0.962    0.997      StackingClassifier\n",
       "1     0.846      0.858   0.846     0.849    0.953       BaggingClassifier\n",
       "2     0.894      0.895   0.894     0.895    0.980      AdaBoostClassifier\n",
       "3     0.990      0.991   0.990     0.990    1.000  RandomForestClassifier"
      ]
     },
     "execution_count": 79,
     "metadata": {},
     "output_type": "execute_result"
    }
   ],
   "source": [
    "results_bernoulli_meta = pd.concat([results_nb, results_ensemble])\n",
    "results_bernoulli_meta"
   ]
  }
 ],
 "metadata": {
  "kernelspec": {
   "display_name": "Python 3 (ipykernel)",
   "language": "python",
   "name": "python3"
  },
  "language_info": {
   "codemirror_mode": {
    "name": "ipython",
    "version": 3
   },
   "file_extension": ".py",
   "mimetype": "text/x-python",
   "name": "python",
   "nbconvert_exporter": "python",
   "pygments_lexer": "ipython3",
   "version": "3.12.5"
  }
 },
 "nbformat": 4,
 "nbformat_minor": 5
}
